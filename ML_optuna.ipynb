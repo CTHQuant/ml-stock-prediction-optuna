{
 "cells": [
  {
   "cell_type": "code",
   "execution_count": null,
   "metadata": {
    "id": "4FjwwTgIh89V"
   },
   "outputs": [],
   "source": [
    "import polars as pl\n",
    "\n",
    "# 轉存 parquet\n",
    "pl.read_csv(\"FILE_PATH\").write_parquet(\"FILE_PATH\")\n",
    "pl.read_csv(\"FILE_PATH\").write_parquet(\"FILE_PATH\")"
   ]
  },
  {
   "cell_type": "code",
   "execution_count": null,
   "metadata": {
    "colab": {
     "base_uri": "https://localhost:8080/"
    },
    "collapsed": true,
    "executionInfo": {
     "elapsed": 11212596,
     "status": "ok",
     "timestamp": 1743606478618,
     "user": {
      "displayName": "莊宗瀚",
      "userId": "07324513348973094453"
     },
     "user_tz": -480
    },
    "id": "honudSWPLJ34",
    "outputId": "2375c6d9-eb50-4cd2-a390-24400a147b61"
   },
   "outputs": [],
   "source": [
    "import optuna\n",
    "import numpy as np\n",
    "import lightgbm as lgb\n",
    "import pandas as pd\n",
    "from sklearn.model_selection import StratifiedKFold\n",
    "from sklearn.metrics import f1_score\n",
    "import polars as pl\n",
    "\n",
    "# 讀資料\n",
    "df_train = pl.read_parquet(\"FILE_PATH\")\n",
    "X = df_train.drop([\"ID\", \"飆股\"]).to_pandas()\n",
    "y = df_train[\"飆股\"].to_numpy()\n",
    "\n",
    "# 固定 threshold（以 v4 為例）\n",
    "with open(\"FILE_PATH\", \"r\") as f:\n",
    "    fixed_threshold = float(f.read().strip())\n",
    "\n",
    "# 中心參數（以你 v4 為例）\n",
    "center_params = {\n",
    "    \"learning_rate\": 0.0425,\n",
    "    \"num_leaves\": 117,\n",
    "    \"max_depth\": 10,\n",
    "    \"min_child_samples\": 174,\n",
    "    \"subsample\": 0.93,\n",
    "    \"colsample_bytree\": 0.77,\n",
    "    \"reg_alpha\": 0.0004,\n",
    "    \"reg_lambda\": 0.295,\n",
    "}\n",
    "\n",
    "def objective(trial):\n",
    "    params = {\n",
    "        \"learning_rate\": trial.suggest_float(\"learning_rate\", center_params[\"learning_rate\"] * 0.8, center_params[\"learning_rate\"] * 1.2),\n",
    "        \"num_leaves\": trial.suggest_int(\"num_leaves\", center_params[\"num_leaves\"] - 20, center_params[\"num_leaves\"] + 20),\n",
    "        \"max_depth\": trial.suggest_int(\"max_depth\", center_params[\"max_depth\"] - 2, center_params[\"max_depth\"] + 2),\n",
    "        \"min_child_samples\": trial.suggest_int(\"min_child_samples\", center_params[\"min_child_samples\"] - 30, center_params[\"min_child_samples\"] + 30),\n",
    "        \"subsample\": trial.suggest_float(\"subsample\", center_params[\"subsample\"] - 0.05, center_params[\"subsample\"] + 0.05),\n",
    "        \"colsample_bytree\": trial.suggest_float(\"colsample_bytree\", center_params[\"colsample_bytree\"] - 0.05, center_params[\"colsample_bytree\"] + 0.05),\n",
    "        \"reg_alpha\": trial.suggest_float(\"reg_alpha\", center_params[\"reg_alpha\"] * 0.5, center_params[\"reg_alpha\"] * 2.0, log=True),\n",
    "        \"reg_lambda\": trial.suggest_float(\"reg_lambda\", center_params[\"reg_lambda\"] * 0.5, center_params[\"reg_lambda\"] * 2.0, log=True),\n",
    "        \"n_estimators\": 1000,\n",
    "        \"random_state\": 42,\n",
    "        \"is_unbalance\": True,\n",
    "        \"verbosity\": -1,\n",
    "        \"boosting_type\": \"gbdt\",\n",
    "        \"objective\": \"binary\"\n",
    "    }\n",
    "\n",
    "    skf = StratifiedKFold(n_splits=5, shuffle=True, random_state=42)\n",
    "    oof_preds = np.zeros(len(X))\n",
    "\n",
    "    for train_idx, val_idx in skf.split(X, y):\n",
    "        X_train, X_val = X.iloc[train_idx], X.iloc[val_idx]\n",
    "        y_train, y_val = y[train_idx], y[val_idx]\n",
    "\n",
    "        model = lgb.LGBMClassifier(**params)\n",
    "        model.fit(\n",
    "            X_train, y_train,\n",
    "            eval_set=[(X_val, y_val)],\n",
    "            eval_metric=\"binary_logloss\",\n",
    "            callbacks=[\n",
    "                lgb.early_stopping(50),\n",
    "                lgb.log_evaluation(0)\n",
    "            ]\n",
    "        )\n",
    "\n",
    "        val_preds = model.predict_proba(X_val)[:, 1]\n",
    "        oof_preds[val_idx] = val_preds\n",
    "\n",
    "    y_pred_binary = (oof_preds > fixed_threshold).astype(int)\n",
    "    score = f1_score(y, y_pred_binary)\n",
    "    return score\n",
    "\n",
    "# 執行 Optuna\n",
    "study = optuna.create_study(direction=\"maximize\")\n",
    "study.optimize(objective, n_trials=50)\n",
    "\n",
    "# 最佳結果\n",
    "print(\"最佳 F1 分數：\", study.best_value)\n",
    "print(\"最佳參數組合：\")\n",
    "for k, v in study.best_params.items():\n",
    "    print(f\"  {k}: {v:.6f}\" if isinstance(v, float) else f\"  {k}: {v}\")\n"
   ]
  },
  {
   "cell_type": "code",
   "execution_count": null,
   "metadata": {
    "colab": {
     "base_uri": "https://localhost:8080/"
    },
    "executionInfo": {
     "elapsed": 4,
     "status": "ok",
     "timestamp": 1743606479296,
     "user": {
      "displayName": "莊宗瀚",
      "userId": "07324513348973094453"
     },
     "user_tz": -480
    },
    "id": "yruJEqSWLOGx",
    "outputId": "e7ff8744-dade-46d4-e914-8b65061f148d"
   },
   "outputs": [],
   "source": [
    "print(\"最佳 F1 score：\", study.best_value)\n",
    "print(\"最佳參數組合：\")\n",
    "for key, value in study.best_params.items():\n",
    "    print(f\"  {key}: {value}\")\n",
    "import json\n",
    "with open(\"best_params_v2.json\", \"w\") as f:\n",
    "    json.dump(study.best_params, f, indent=2)"
   ]
  }
 ],
 "metadata": {
  "colab": {
   "authorship_tag": "ABX9TyPH+6pLleH0VFR60M61453V",
   "collapsed_sections": [
    "H5N-m93amc5c",
    "rfuP5oOSLQiA",
    "rBrLZC8L-gxm",
    "nrV1dDzzJMsS",
    "fhf9sb0c4RyY",
    "SGULnI9zCB55"
   ],
   "machine_shape": "hm",
   "mount_file_id": "1KVuCLVgC-DoJRAMEfhMEHoWd4Eu5JJ4m",
   "provenance": [
    {
     "file_id": "1qsSkpmfd0fctWf9Z8nNdA5WkUYGg21ix",
     "timestamp": 1743593502144
    },
    {
     "file_id": "1OsaZR3Mz2Y5cW76WzvzMoB1wk-BjjKCj",
     "timestamp": 1743321727960
    }
   ]
  },
  "kernelspec": {
   "display_name": "Python 3",
   "name": "python3"
  },
  "language_info": {
   "name": "python"
  }
 },
 "nbformat": 4,
 "nbformat_minor": 0
}
